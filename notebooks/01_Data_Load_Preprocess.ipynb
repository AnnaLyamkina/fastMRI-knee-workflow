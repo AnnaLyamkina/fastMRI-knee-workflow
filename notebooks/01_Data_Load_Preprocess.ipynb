{
 "cells": [
  {
   "cell_type": "markdown",
   "id": "51aa69e3",
   "metadata": {},
   "source": [
    "### 01 - Data Loading, Visualization, and Preprocessing\n",
    "\n",
    "This notebook serves as the initial data exploration and validation step. The goal is to:\n",
    "\n",
    "1. Confirm successful reading of FastMRI HDF5 files and k-space extraction.\n",
    "2. Inspect the structure and distribution of the fastmri+ clinical labels.\n",
    "3. Prototype the entire data flow: Generate the undersampling mask, apply it to the k-space, and visualize the resulting Zero-Filled IFFT (Artifact Baseline / Pipeline A U-Net Input) against the Fully Sampled IFFT (Ground Truth)."
   ]
  },
  {
   "cell_type": "code",
   "execution_count": null,
   "id": "a8d15a00",
   "metadata": {},
   "outputs": [],
   "source": []
  }
 ],
 "metadata": {
  "kernelspec": {
   "display_name": "fastmrienv",
   "language": "python",
   "name": "python3"
  },
  "language_info": {
   "name": "python",
   "version": "3.10.18"
  }
 },
 "nbformat": 4,
 "nbformat_minor": 5
}
